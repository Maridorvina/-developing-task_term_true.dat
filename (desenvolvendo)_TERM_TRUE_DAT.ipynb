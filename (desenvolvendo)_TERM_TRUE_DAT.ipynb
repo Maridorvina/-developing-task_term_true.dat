{
  "nbformat": 4,
  "nbformat_minor": 0,
  "metadata": {
    "colab": {
      "name": "(desenvolvendo)_TERM_TRUE.DAT.ipynb",
      "provenance": [],
      "include_colab_link": true
    },
    "kernelspec": {
      "name": "python3",
      "display_name": "Python 3"
    },
    "language_info": {
      "name": "python"
    }
  },
  "cells": [
    {
      "cell_type": "markdown",
      "metadata": {
        "id": "view-in-github",
        "colab_type": "text"
      },
      "source": [
        "<a href=\"https://colab.research.google.com/github/Maridorvina/-developing-task_term_true.dat/blob/main/(desenvolvendo)_TERM_TRUE_DAT.ipynb\" target=\"_parent\"><img src=\"https://colab.research.google.com/assets/colab-badge.svg\" alt=\"Open In Colab\"/></a>"
      ]
    },
    {
      "cell_type": "markdown",
      "source": [
        "**Passo a passo de solução do desafio/tarefa**"
      ],
      "metadata": {
        "id": "iXQxLCIF_KlA"
      }
    },
    {
      "cell_type": "code",
      "source": [
        "# Logica de programação\n",
        "\n",
        "# Passo 0 - Entender o desafio que vc quer resolver\n",
        "\n",
        "# Passo 1 - Percorrer todos os arquivos da pasta base de dados \n",
        "\n",
        "from google.colab import drive #importando o arquivo da pasta do drive \n",
        "drive.mount('/content/drive')\n",
        "# Passo 2 - Importando bibliotecas\n",
        "\n",
        "# (Pasta com os arquivos encad_termicas.csv e TERM.DAT)\n",
        "\n",
        "# Passo 3 - Importar a base de dados\n"
      ],
      "metadata": {
        "id": "bftYx5TCBhGB"
      },
      "execution_count": null,
      "outputs": []
    },
    {
      "cell_type": "code",
      "metadata": {
        "id": "WhnJjemv0VhX",
        "colab": {
          "base_uri": "https://localhost:8080/",
          "height": 235
        },
        "outputId": "11b15cab-6713-4b07-ee51-8351e515a09a"
      },
      "source": [
        "'''# Passo complementar - Fazendo a leitura da tabela do arquivo, e navegando através das linhas usando \n",
        "o laço de repetição if linha in tabela: (para determinada linha na tabela execute a 'planilha' \n",
        "Na linha abaixo retorna um erro devido a não execução da biblioteca e o caminho dos arquivos\n",
        "não identificadas'''\n",
        "\n",
        "\n",
        "with open('/content/drive/MyDrive/teste_true_term/encad-termicas.csv', 'r') as arquivo:\n",
        "\n",
        "  tabela = arquivo.readlines()\n",
        "\n",
        "for linha in tabela:\n",
        "  if 'planilha' in linha:\n",
        "    print(tabela)\n",
        "\n",
        "    w.close\n"
      ],
      "execution_count": null,
      "outputs": [
        {
          "output_type": "error",
          "ename": "FileNotFoundError",
          "evalue": "ignored",
          "traceback": [
            "\u001b[0;31m---------------------------------------------------------------------------\u001b[0m",
            "\u001b[0;31mFileNotFoundError\u001b[0m                         Traceback (most recent call last)",
            "\u001b[0;32m<ipython-input-1-1c700aa93cee>\u001b[0m in \u001b[0;36m<module>\u001b[0;34m()\u001b[0m\n\u001b[1;32m      8\u001b[0m \u001b[0;34m\u001b[0m\u001b[0m\n\u001b[1;32m      9\u001b[0m \u001b[0;34m\u001b[0m\u001b[0m\n\u001b[0;32m---> 10\u001b[0;31m \u001b[0;32mwith\u001b[0m \u001b[0mopen\u001b[0m\u001b[0;34m(\u001b[0m\u001b[0;34m'/content/drive/MyDrive/teste_true_term/encad-termicas.csv'\u001b[0m\u001b[0;34m,\u001b[0m \u001b[0;34m'r'\u001b[0m\u001b[0;34m)\u001b[0m \u001b[0;32mas\u001b[0m \u001b[0marquivo\u001b[0m\u001b[0;34m:\u001b[0m\u001b[0;34m\u001b[0m\u001b[0;34m\u001b[0m\u001b[0m\n\u001b[0m\u001b[1;32m     11\u001b[0m \u001b[0;34m\u001b[0m\u001b[0m\n\u001b[1;32m     12\u001b[0m   \u001b[0mtabela\u001b[0m \u001b[0;34m=\u001b[0m \u001b[0marquivo\u001b[0m\u001b[0;34m.\u001b[0m\u001b[0mreadlines\u001b[0m\u001b[0;34m(\u001b[0m\u001b[0;34m)\u001b[0m\u001b[0;34m\u001b[0m\u001b[0;34m\u001b[0m\u001b[0m\n",
            "\u001b[0;31mFileNotFoundError\u001b[0m: [Errno 2] No such file or directory: '/content/drive/MyDrive/teste_true_term/encad-termicas.csv'"
          ]
        }
      ]
    },
    {
      "cell_type": "markdown",
      "source": [
        "O Beautiful Soup é uma biblioteca que facilita a extração de informações de páginas da web.\n",
        "Ele fica no topo de um analisador HTML ou XML, fornecendo idiomas Pythonic para iterar, \n",
        "pesquisar e modificar a árvore de análise."
      ],
      "metadata": {
        "id": "mgpqbY8vt0aU"
      }
    },
    {
      "cell_type": "code",
      "metadata": {
        "colab": {
          "base_uri": "https://localhost:8080/"
        },
        "id": "pV83kY95ckl6",
        "outputId": "9c265401-5d27-4ac9-c6e2-d36190a7cf2e"
      },
      "source": [
        "# Instalando biblioteca beatifulSoup4\n",
        "\n",
        "pip install beautifulSoup4"
      ],
      "execution_count": null,
      "outputs": [
        {
          "output_type": "stream",
          "name": "stdout",
          "text": [
            "Requirement already satisfied: beautifulSoup4 in /usr/local/lib/python3.7/dist-packages (4.6.3)\n"
          ]
        }
      ]
    },
    {
      "cell_type": "markdown",
      "metadata": {
        "id": "fb3IN5VNP-l-"
      },
      "source": [
        "##Fazer uma solicitação usando metodo **GE**T para o link disponibilizado **link**(https://datawarehouse-true.s3-sa-east-1.amazonaws.com/teste-true/teste_true_term.zip)"
      ]
    },
    {
      "cell_type": "code",
      "metadata": {
        "colab": {
          "base_uri": "https://localhost:8080/",
          "height": 53
        },
        "id": "-BnDsnpzORdj",
        "outputId": "5588d187-2d6d-45a9-ee29-6bb7c32350da"
      },
      "source": [
        "# Fazer a solicitação usando o metodo GET, obtendo a informação do arquivo zip \n",
        "\n",
        "# Para extrair as informações, utilizei o elemento HTML para extração das informações\n",
        "\n",
        "# Segue logo abaixo o link de acesso para ler e  descompactar:\n",
        "\n",
        "# https://datawarehouse-true.s3-sa-east-1.amazonaws.com/teste-true/teste_true_term.zip\n",
        "\n",
        "import requests # Importando a biblioteca requests\n",
        "from bs4 import BeautifulSoup \n",
        "\n",
        "pagina = requests.get(\"https://datawarehouse-true.s3-sa-east-1.amazonaws.com/teste-true/teste_true_term.zip\")\n",
        "\n",
        "soup = BeautifulSoup ('htlml.parser')\n",
        "\n",
        "for link in soup.find_all('body'):\n",
        "    print(link.get('location.replace'))\n",
        "\n",
        "'''\n",
        "retorna todas as tags (e especifico a tag body(corpo) da estrutura HTML) \n",
        "e strings que correspondem aos seus filtros.\n",
        "\n",
        "soup.find_all('body', {'onload':'location.replace'})'''"
      ],
      "execution_count": null,
      "outputs": [
        {
          "output_type": "stream",
          "name": "stdout",
          "text": [
            "None\n"
          ]
        },
        {
          "output_type": "execute_result",
          "data": {
            "application/vnd.google.colaboratory.intrinsic+json": {
              "type": "string"
            },
            "text/plain": [
              "\"\\nsoup.find_all('body', {'onload':'location.replace'})\""
            ]
          },
          "metadata": {},
          "execution_count": 25
        }
      ]
    },
    {
      "cell_type": "code",
      "metadata": {
        "colab": {
          "base_uri": "https://localhost:8080/"
        },
        "id": "FGcBeWHN0FQ-",
        "outputId": "c0c10a37-b742-4399-ce25-6151467454c3"
      },
      "source": [
        "# Executando o passo 1 - Abrir os arquivos encad_termicas.csv e TERM.DAT\n",
        "from google.colab import drive\n",
        "drive.mount('/content/drive')"
      ],
      "execution_count": null,
      "outputs": [
        {
          "output_type": "stream",
          "name": "stdout",
          "text": [
            "Mounted at /content/drive\n"
          ]
        }
      ]
    },
    {
      "cell_type": "code",
      "metadata": {
        "colab": {
          "base_uri": "https://localhost:8080/"
        },
        "id": "z0fxLjIAuSai",
        "outputId": "3c6921fd-7933-4e93-acad-6ce456dab021"
      },
      "source": [
        "import csv\n",
        "\n",
        "with open('/content/drive/MyDrive/tarefa_python/teste_true_term/encad-termicas.csv') as arquivo:\n",
        "    \n",
        "# Definindo uma variavel com o valor do arquivo (para simplificar na elaboração do código),\n",
        "# Incluindo toda a lista de nomes disponiveis na tabela\n",
        "    tabela = csv.DictReader(arquivo, fieldnames=[\"jan\",\"fev\",\"mar\",\"abr\",\"mai\",\"jun\",\"jul\",\n",
        "                                                 \"ago\",\"set\",\"out\",\"nov\",\"dez\",\"futuro\\n\"])\n",
        "    \n",
        "    tabela.__next__()\n",
        "\n",
        "    for row in tabela:\n",
        "        print( row[\"jan\"] + ', ' + row[\"fev\"] + ', ' + row[\"mar\"] + ', ' + row[\"abr\"] \n",
        "              + ', ' + row[\"mai\"] + ', ' + row[\"jun\"] + ', ' + row[\"jul\"] + ', ' + row[\"ago\"] \n",
        "              + ', '+ row[\"set\"] + ', ' + row[\"out\"] + ', ' + row[\"nov\"] + ', ' +  row[\"dez\"] \n",
        "              + ', ' + row[\"futuro\\n\"])"
      ],
      "execution_count": null,
      "outputs": [
        {
          "output_type": "stream",
          "name": "stdout",
          "text": [
            "62, SEROPEDICA, 386.0, 100.0, 25.84, 6.86, 0.00, 0.00, 0.00, 0.00, 140.00, 140.00, 132.00\n",
            "47, TERMORIO, 1036.0, 100.0, 12.67, 5.29, 101.00, 0.00, 0.00, 100.50, 100.50, 100.50, 100.50\n",
            "140, MAUA 3, 591.0, 97.0, 4.04, 11.75, 0.00, 0.00, 0.00, 264.00, 264.00, 264.00, 240.00\n",
            "201, APARECIDA, 166.0, 100.0, 14.29, 13.7, 79.00, 0.00, 0.00, 75.00, 0.00, 75.00, 75.00\n"
          ]
        }
      ]
    },
    {
      "cell_type": "code",
      "metadata": {
        "colab": {
          "base_uri": "https://localhost:8080/"
        },
        "id": "tBmO-hNws_Ad",
        "outputId": "696d2e86-e970-4661-ccc4-c8827f0aa24e"
      },
      "source": [
        "# Importando arequivo .csv\n",
        "import csv\n",
        "\n",
        "# Abrindo e fazendo a leitura do arquivo encad-termicas.csv usando o 'r' (read)\n",
        "with open('/content/drive/MyDrive/teste_true_term/encad-termicas.csv', 'r') as arquivo:  \n",
        "  tabela = arquivo.readlines()\n",
        "\n",
        "'''for linha in tabela:\n",
        "  if 'planilha' in linha:'''\n",
        "    print(tabela)"
      ],
      "execution_count": null,
      "outputs": [
        {
          "output_type": "stream",
          "name": "stdout",
          "text": [
            "['jan,fev,mar,abr,mai,jun,jul,ago,set,out,nov,dez,futuro\\n', '25.84,6.86,0.0,0.0,0.0,0.0,140.0,140.0,132.0,140.0,0.0,0.0\\n', '12.67,5.29,101.0,0.0,0.0,100.5,100.5,100.5,100.5,100.5,100.5,100.5\\n', '4.04,11.75,0.0,0.0,0.0,264.0,264.0,264.0,240.0,240.0,240.0,264.0\\n', '14.29,13.7,79.0,0.0,0.0,75.0,0.0,75.0,75.0,75.0,75.0,75.0\\n']\n"
          ]
        }
      ]
    },
    {
      "cell_type": "code",
      "metadata": {
        "colab": {
          "base_uri": "https://localhost:8080/",
          "height": 148
        },
        "id": "xmSlA5oeldQa",
        "outputId": "1e54ac8b-260f-4471-caac-8a09e1a4ea7b"
      },
      "source": [
        "# Importando o arquivo csv\n",
        "import csv\n",
        "\n",
        "# Abrindo arq. TERM.DAT e escrevendo no arquivo (tentando escrever)\n",
        "\n",
        "with open('/content/drive/MyDrive/teste_true_term/TERM.DAT', 'a') as arquivo:\n",
        "\n",
        "arquivo.write(\"62, SEROPEDICA, 386.0, 100.0\\47,TERMORIO, 1036.0, 100.0\\140,MAUA 3, 591.0, 97.0\\201,APARECIDA, 166.0, 100.0\")"
      ],
      "execution_count": null,
      "outputs": [
        {
          "output_type": "error",
          "ename": "IndentationError",
          "evalue": "ignored",
          "traceback": [
            "\u001b[0;36m  File \u001b[0;32m\"<ipython-input-89-48d703ee0985>\"\u001b[0;36m, line \u001b[0;32m7\u001b[0m\n\u001b[0;31m    arquivo.write(\"62, SEROPEDICA, 386.0, 100.0\\47,TERMORIO, 1036.0, 100.0\\140,MAUA 3, 591.0, 97.0\\201,APARECIDA, 166.0, 100.0\")\u001b[0m\n\u001b[0m          ^\u001b[0m\n\u001b[0;31mIndentationError\u001b[0m\u001b[0;31m:\u001b[0m expected an indented block\n"
          ]
        }
      ]
    },
    {
      "cell_type": "code",
      "metadata": {
        "colab": {
          "base_uri": "https://localhost:8080/"
        },
        "id": "fO20W8zQA9lL",
        "outputId": "058663fc-5f7b-401f-f053-3051b22ff259"
      },
      "source": [
        "import csv\n",
        "\n",
        "# Este bloco realiza a leitura\n",
        "with open('/content/drive/MyDrive/teste_true_term/encad-termicas.csv') as arquivo_teste:\n",
        "\n",
        "  tabela = csv.DictReader(arquivo_teste, fieldnames=[\"SEROPEDICA\", \"TERMORIO\", \"MAUA\", \"APARECIDA\"])\n",
        "\n",
        "  tabela.__next__()\n",
        "\n",
        "  for row in tabela:\n",
        "    print( row[\"SEROPEDICA\"], ', ' + row[\"TERMORIO\"] + ', ' + row[\"MAUA\"] + ', ' + row[\"APARECIDA\"])"
      ],
      "execution_count": null,
      "outputs": [
        {
          "output_type": "stream",
          "name": "stdout",
          "text": [
            "62 , SEROPEDICA, 386.0, 100.0\n",
            "47 , TERMORIO, 1036.0, 100.0\n",
            "140 , MAUA 3, 591.0, 97.0\n",
            "201 , APARECIDA, 166.0, 100.0\n"
          ]
        }
      ]
    },
    {
      "cell_type": "code",
      "metadata": {
        "id": "UJvOviGVilG_"
      },
      "source": [
        "# Importando arq. csv\n",
        "import csv\n",
        "\n",
        "# Esse bloco esquecreve novas linhas \n",
        "with open('/content/drive/MyDrive/teste_true_term/encad-termicas.csv', 'w', newline='') as file:\n",
        "    \n",
        "    writer = csv.writer(file)\n",
        "\n",
        "    writer.writerow([\"jan\",\"fev\",\"mar\",\"abr\",\"mai\",\"jun\",\"jul\",\"ago\",\"set\",\"out\",\"nov\",\"dez\",\"futuro\"])\n",
        "    writer.writerow([25.84, 6.86, 0.00, 0.00, 0.00, 0.00, 140.00, 140.00, 132.00, 140.00, 0.00, 0.00])\n",
        "    writer.writerow([12.67, 5.29, 101.00, 0.00, 0.00, 100.50, 100.50, 100.50, 100.50, 100.50, 100.50, 100.50])\n",
        "    writer.writerow([4.04, 11.75, 0.00, 0.00, 0.00, 264.00, 264.00, 264.00, 240.00, 240.00, 240.00, 264.00])\n",
        "    writer.writerow([14.29, 13.7, 79.00, 0.00, 0.00, 75.00, 0.00, 75.00, 75.00, 75.00, 75.00, 75.00])\n",
        "\n"
      ],
      "execution_count": null,
      "outputs": []
    }
  ]
}